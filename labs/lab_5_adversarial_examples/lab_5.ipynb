{
 "cells": [
  {
   "cell_type": "markdown",
   "metadata": {},
   "source": [
    "# Lab 5: A Black-Box Adversarial Attack\n",
    "In this lab, we'll carry out an adversarial attack in the **black box** case: we don't have the weights of the network we're trying to trick (the **target model**), and instead we can only give it inputs and see its outputs.\n",
    "\n",
    "Black-box adversarial attacks are based on the fact that adversarial examples are _transferable_: if it tricks one network, it will likely trick another (but less well).\n",
    "So, since we need network weights to make adversarial examples, we train a second model, the **surrogate model**, to act like the target model.\n",
    "To do this, we'll use the target model as an \"oracle\" to make a dataset where the features are from real examples, and the labels are the outputs of the target model on those examples.\n",
    "If the surrogate model learns to output the same probabilities as the target model on a given input, its internal representations are likely similar.\n",
    "Then, when we make an adversarial example for the surrogate model, it should also trick the target model.\n",
    "\n",
    "The end result of this lab should be an image which looks close to some image in the dataset, but tricks the target network into assigning high confidence to some other class. "
   ]
  },
  {
   "cell_type": "markdown",
   "metadata": {},
   "source": [
    "## Section 0: Load the data\n",
    "This uses the same dataset as last time, so just copy the data over here in the same format.\n",
    "The same data loading and preprocessing as before is in place."
   ]
  },
  {
   "cell_type": "code",
   "execution_count": 26,
   "metadata": {},
   "outputs": [],
   "source": [
    "%matplotlib inline\n",
    "import numpy as np\n",
    "import tensorflow as tf\n",
    "import matplotlib.pyplot as plt\n",
    "from tqdm import tqdm"
   ]
  },
  {
   "cell_type": "code",
   "execution_count": 2,
   "metadata": {},
   "outputs": [],
   "source": [
    "# Seed numpy rng for reproducibility\n",
    "np.random.seed(1337)\n",
    "\n",
    "# Load data\n",
    "x_all = np.load('X.npy')\n",
    "y_all = np.load('Y.npy')\n",
    "\n",
    "# Maps dataset-provided label to true label\n",
    "label_map = {0:9, 1:0, 2:7, 3:6, 4:1, 5:8, 6:4, 7:3, 8:2, 9:5}\n",
    "\n",
    "# Correct dataset labels\n",
    "for row in range(y_all.shape[0]):\n",
    "    dataset_label = np.where(y_all[row])[0][0]\n",
    "    y_all[row, :] = np.zeros(10)\n",
    "    y_all[row, label_map[dataset_label]] = 1\n",
    "    \n",
    "# Shuffle features and targets together\n",
    "# Credit for this technique to:\n",
    "# https://stackoverflow.com/questions/4601373/\n",
    "# better-way-to-shuffle-two-numpy-arrays-in-unison\n",
    "rng_state = np.random.get_state()\n",
    "np.random.shuffle(x_all)\n",
    "np.random.set_state(rng_state)\n",
    "np.random.shuffle(y_all)\n",
    "\n",
    "# Add a dummy channel axis to input images\n",
    "x_all = np.expand_dims(x_all, axis=-1)\n",
    "\n",
    "# Center and rescale data to the range [-1, 1]\n",
    "x_all = x_all - 0.5\n",
    "x_all = x_all * 2\n",
    "\n",
    "# Create a validation set from 30% of the available data\n",
    "n_points = x_all.shape[0]\n",
    "n_test = int(n_points * 0.3)\n",
    "n_train = n_points - n_test\n",
    "x_train, x_test = np.split(x_all, [n_train], axis=0)\n",
    "y_train, y_test = np.split(y_all, [n_train], axis=0)"
   ]
  },
  {
   "cell_type": "markdown",
   "metadata": {},
   "source": [
    "## Section 1: Train the black-box model\n",
    "Below, I've written a CNN in Keras to classify images from the dataset, and the code to train it.\n",
    "This will act as the \"black box model.\"\n",
    "\n",
    "Train the model using the code below.\n",
    "It should hit about 95-96% validation accuracy on the dataset."
   ]
  },
  {
   "cell_type": "code",
   "execution_count": 3,
   "metadata": {},
   "outputs": [
    {
     "name": "stderr",
     "output_type": "stream",
     "text": [
      "Using TensorFlow backend.\n"
     ]
    },
    {
     "name": "stdout",
     "output_type": "stream",
     "text": [
      "Model: \"model_1\"\n",
      "_________________________________________________________________\n",
      "Layer (type)                 Output Shape              Param #   \n",
      "=================================================================\n",
      "input_1 (InputLayer)         (None, 64, 64, 1)         0         \n",
      "_________________________________________________________________\n",
      "conv2d_1 (Conv2D)            (None, 30, 30, 16)        416       \n",
      "_________________________________________________________________\n",
      "conv2d_2 (Conv2D)            (None, 28, 28, 16)        2320      \n",
      "_________________________________________________________________\n",
      "max_pooling2d_1 (MaxPooling2 (None, 14, 14, 16)        0         \n",
      "_________________________________________________________________\n",
      "conv2d_3 (Conv2D)            (None, 12, 12, 32)        4640      \n",
      "_________________________________________________________________\n",
      "conv2d_4 (Conv2D)            (None, 10, 10, 32)        9248      \n",
      "_________________________________________________________________\n",
      "max_pooling2d_2 (MaxPooling2 (None, 5, 5, 32)          0         \n",
      "_________________________________________________________________\n",
      "conv2d_5 (Conv2D)            (None, 5, 5, 64)          18496     \n",
      "_________________________________________________________________\n",
      "conv2d_6 (Conv2D)            (None, 5, 5, 64)          36928     \n",
      "_________________________________________________________________\n",
      "max_pooling2d_3 (MaxPooling2 (None, 2, 2, 64)          0         \n",
      "_________________________________________________________________\n",
      "flatten_1 (Flatten)          (None, 256)               0         \n",
      "_________________________________________________________________\n",
      "dense_1 (Dense)              (None, 128)               32896     \n",
      "_________________________________________________________________\n",
      "dense_2 (Dense)              (None, 10)                1290      \n",
      "=================================================================\n",
      "Total params: 106,234\n",
      "Trainable params: 106,234\n",
      "Non-trainable params: 0\n",
      "_________________________________________________________________\n"
     ]
    }
   ],
   "source": [
    "from keras.models import Model\n",
    "from keras.layers import Input, Conv2D, Dense, Flatten, MaxPool2D\n",
    "\n",
    "inputs = Input(shape=(64, 64, 1))\n",
    "layer = Conv2D(16, 5, strides=(2, 2), activation='relu')(inputs)\n",
    "layer = Conv2D(16, 3, activation='relu')(layer)\n",
    "layer = MaxPool2D()(layer)\n",
    "\n",
    "layer = Conv2D(32, 3, activation='relu')(layer)\n",
    "layer = Conv2D(32, 3, activation='relu')(layer)\n",
    "layer = MaxPool2D()(layer)\n",
    "\n",
    "layer = Conv2D(64, 3, padding='same', activation='relu')(layer)\n",
    "layer = Conv2D(64, 3, padding='same', activation='relu')(layer)\n",
    "layer = MaxPool2D()(layer)\n",
    "\n",
    "layer = Flatten()(layer)\n",
    "layer = Dense(128, activation='relu')(layer)\n",
    "probs = Dense(10, activation='softmax')(layer)\n",
    "\n",
    "target_model = Model(inputs, probs)\n",
    "target_model.summary()"
   ]
  },
  {
   "cell_type": "code",
   "execution_count": 4,
   "metadata": {},
   "outputs": [],
   "source": [
    "from keras.optimizers import Adam\n",
    "\n",
    "opt = Adam(1e-3)\n",
    "target_model.compile(opt, loss='categorical_crossentropy',\n",
    "              metrics=['accuracy'])"
   ]
  },
  {
   "cell_type": "code",
   "execution_count": 5,
   "metadata": {},
   "outputs": [
    {
     "name": "stdout",
     "output_type": "stream",
     "text": [
      "Train on 1444 samples, validate on 618 samples\n",
      "Epoch 1/15\n",
      "1444/1444 [==============================] - 4s 3ms/step - loss: 2.0117 - accuracy: 0.2922 - val_loss: 1.2303 - val_accuracy: 0.6100\n",
      "Epoch 2/15\n",
      "1444/1444 [==============================] - 3s 2ms/step - loss: 0.9038 - accuracy: 0.6842 - val_loss: 0.6036 - val_accuracy: 0.7913\n",
      "Epoch 3/15\n",
      "1444/1444 [==============================] - 3s 2ms/step - loss: 0.4992 - accuracy: 0.8317 - val_loss: 0.3961 - val_accuracy: 0.8576\n",
      "Epoch 4/15\n",
      "1444/1444 [==============================] - 3s 2ms/step - loss: 0.3259 - accuracy: 0.8830 - val_loss: 0.3413 - val_accuracy: 0.8964\n",
      "Epoch 5/15\n",
      "1444/1444 [==============================] - 3s 2ms/step - loss: 0.1915 - accuracy: 0.9418 - val_loss: 0.3203 - val_accuracy: 0.9094\n",
      "Epoch 6/15\n",
      "1444/1444 [==============================] - 3s 2ms/step - loss: 0.1633 - accuracy: 0.9529 - val_loss: 0.2581 - val_accuracy: 0.9159\n",
      "Epoch 7/15\n",
      "1444/1444 [==============================] - 3s 2ms/step - loss: 0.0755 - accuracy: 0.9751 - val_loss: 0.2709 - val_accuracy: 0.9223\n",
      "Epoch 8/15\n",
      "1444/1444 [==============================] - 3s 2ms/step - loss: 0.1182 - accuracy: 0.9578 - val_loss: 0.2638 - val_accuracy: 0.9239\n",
      "Epoch 9/15\n",
      "1444/1444 [==============================] - 3s 2ms/step - loss: 0.0408 - accuracy: 0.9875 - val_loss: 0.2392 - val_accuracy: 0.9417\n",
      "Epoch 10/15\n",
      "1444/1444 [==============================] - 3s 2ms/step - loss: 0.0184 - accuracy: 0.9958 - val_loss: 0.2149 - val_accuracy: 0.9563\n",
      "Epoch 11/15\n",
      "1444/1444 [==============================] - 3s 2ms/step - loss: 0.0104 - accuracy: 0.9979 - val_loss: 0.2947 - val_accuracy: 0.9466\n",
      "Epoch 12/15\n",
      "1444/1444 [==============================] - 3s 2ms/step - loss: 0.0294 - accuracy: 0.9903 - val_loss: 0.3167 - val_accuracy: 0.9320\n",
      "Epoch 13/15\n",
      "1444/1444 [==============================] - 3s 2ms/step - loss: 0.0143 - accuracy: 0.9965 - val_loss: 0.2809 - val_accuracy: 0.9450\n",
      "Epoch 14/15\n",
      "1444/1444 [==============================] - 3s 2ms/step - loss: 0.0045 - accuracy: 0.9993 - val_loss: 0.2193 - val_accuracy: 0.9579\n",
      "Epoch 15/15\n",
      "1444/1444 [==============================] - 3s 2ms/step - loss: 5.9678e-04 - accuracy: 1.0000 - val_loss: 0.2195 - val_accuracy: 0.9595\n"
     ]
    },
    {
     "data": {
      "text/plain": [
       "<keras.callbacks.callbacks.History at 0x1ca51cc0348>"
      ]
     },
     "execution_count": 5,
     "metadata": {},
     "output_type": "execute_result"
    }
   ],
   "source": [
    "target_model.fit(x_train, y_train, \n",
    "                 validation_data=(x_test, y_test),\n",
    "                 epochs=15)"
   ]
  },
  {
   "cell_type": "markdown",
   "metadata": {},
   "source": [
    "## Section 2: Build an \"oracle dataset\" and data pipeline\n",
    "Now, we'll treat the target model as a black box: pretend we don't have access to its weights or its original input data.\n",
    "In the wild, all we can do is give it inputs and see its outputs.\n",
    "\n",
    "We want to train a surrogate model to act similarly to the target model, so create a fake \"oracle dataset\" where the features are `x_all` and the outputs are the 10-vectors of probability the target model predicts for that input.\n",
    "\n",
    "Then, set up any `tf.data.Dataset` objects you need.\n",
    "In this case we don't have a test set, just a training set. Add `tf.summary.SummaryWriter`s to save logs to `./logs/surrogate` and `./logs/adversarial`."
   ]
  },
  {
   "cell_type": "code",
   "execution_count": 6,
   "metadata": {},
   "outputs": [],
   "source": [
    "x_all_od = x_all\n",
    "y_od = target_model.predict(x_all_od)\n",
    "\n",
    "dataset_train = tf.data.Dataset.from_tensor_slices((x_all_od, y_od)).shuffle(x_all_od.shape[0]).batch(64).cache()\n",
    "\n",
    "surr_writer = tf.summary.create_file_writer('./logs/surrogate')\n",
    "adv_writer = tf.summary.create_file_writer('./logs/adversarial')"
   ]
  },
  {
   "cell_type": "markdown",
   "metadata": {},
   "source": [
    "## Section 3: Build a surrogate model\n",
    "The surrogate model is designed to act similarly to the target model, so that adversarial examples we create for it will also work on the target model.\n",
    "Feel free to use any architecture you want, but matching the target architecture closely (maybe with a bit more capacity) is a good bet.\n",
    "\n",
    "Copy code from last week's assignment liberally.\n",
    "Most likely, you won't have to write all that much new code in this section.\n",
    "\n",
    "This should involve tensors that:\n",
    " - Act as hidden convolutional and dense layers\n",
    " - Compute the logits and probabilities for a batch of input images\n",
    " - Compute the predicted digit from the probabilities\n",
    " - Compute the mean cross-entropy loss over a batch"
   ]
  },
  {
   "cell_type": "markdown",
   "metadata": {},
   "source": [
    "### 3.1 Dense and convolutional layers\n",
    "Copy the `Dense` and `Conv` classes you wrote last week here. You will need them to construct the graph of your surrogate model."
   ]
  },
  {
   "cell_type": "code",
   "execution_count": 7,
   "metadata": {},
   "outputs": [],
   "source": [
    "class Dense(tf.Module):\n",
    "    '''\n",
    "    Creates a dense layer module.\n",
    "    \n",
    "    Parameters\n",
    "    ----------\n",
    "    dim_input: int\n",
    "        Number of features in the input representation.\n",
    "    dim_output: int\n",
    "        Number of features in the output representation.\n",
    "        Equivalently, number of units in this layer.\n",
    "    do_activation: bool\n",
    "        Whether or not to apply ReLU activation.\n",
    "    postfix: string\n",
    "        Postfix on name scopes in this layer.\n",
    "        Used to simplify visualizations.\n",
    "    name: string\n",
    "        Name of layer.\n",
    "        \n",
    "    Returns\n",
    "    -------\n",
    "    A tensor representing the activations of this layer.\n",
    "    '''\n",
    "    def __init__(self, dim_input, dim_output, do_activation=True, postfix='', name=None):\n",
    "        super().__init__(name=name)\n",
    "        with tf.name_scope('dense' + postfix):\n",
    "            self.weights = tf.Variable(tf.initializers.he_uniform()(shape = (dim_input, dim_output), dtype = tf.float32), name = 'weights-' + postfix)\n",
    "            self.bias = tf.Variable(tf.zeros_initializer()(shape = dim_output, dtype = tf.float32), name = 'bias-' + postfix)\n",
    "            self.do_activation = do_activation\n",
    "        \n",
    "    def __call__(self, x):\n",
    "        output = tf.math.add(tf.matmul(x, self.weights), self.bias)\n",
    "        if self.do_activation:\n",
    "            activations = tf.nn.relu(output)\n",
    "            return activations\n",
    "        return output\n",
    "    \n",
    "    \n",
    "class Conv(tf.Module):\n",
    "    '''\n",
    "    Creates a convolutional layer module.\n",
    "    \n",
    "    Parameters\n",
    "    ----------\n",
    "    input_channels: int\n",
    "        Number of channels in the input representation.\n",
    "    n_filters: int\n",
    "        Number of channels in the output representation.\n",
    "        Equivalently, number of filters in this layer.\n",
    "    filter_size: int\n",
    "        Width and height of each kernel in the layer's filters.\n",
    "    stride: int\n",
    "        Stride to use in the x and y directions for the\n",
    "        convolution operation.\n",
    "    do_activation: bool\n",
    "        Whether or not to apply ReLU activation.\n",
    "    pool_size: int\n",
    "        If > 1, does max pooling of this size to the\n",
    "        width and height axes of the activation.\n",
    "    postfix: string\n",
    "        Postfix on name and variable scopes in this layer.\n",
    "        Used to simplify visualizations.\n",
    "    name: string\n",
    "        Name of layer\n",
    "        \n",
    "    Returns\n",
    "    -------\n",
    "    A tensor representing the activations of this layer.\n",
    "    '''\n",
    "    def __init__(self, input_channels, n_filters, \n",
    "                 filter_size=3, stride=1,\n",
    "                 do_activation=True, pool_size=1,\n",
    "                 postfix='', name=None):\n",
    "        super().__init__(name=name)\n",
    "        with tf.name_scope('conv' + postfix):\n",
    "            self.filter_ = tf.Variable(tf.initializers.he_uniform()(shape = (filter_size, filter_size, input_channels, n_filters), dtype = tf.float32), name = 'filter')\n",
    "            self.bias = tf.Variable(tf.zeros_initializer()(shape = (n_filters), dtype = tf.float32), name = 'bias')\n",
    "            self.pool_size = pool_size\n",
    "            self.do_activation = do_activation\n",
    "            self.stride = stride\n",
    "            \n",
    "    def image(self, x):\n",
    "        pre_activ = tf.nn.conv2d(x, self.filter_, strides = [1, self.stride, self.stride, 1], padding = 'SAME')\n",
    "        pre_activ = tf.nn.bias_add(pre_activ, self.bias)\n",
    "        if self.do_activation:\n",
    "            pre_activ = tf.nn.relu(pre_activ)\n",
    "        return pre_activ\n",
    "            \n",
    "    def __call__(self, x):\n",
    "        output = self.image(x)\n",
    "        if self.pool_size > 1:\n",
    "            output = tf.nn.max_pool(output, ksize = [1, self.pool_size, self.pool_size, 1], strides = [1, self.pool_size, self.pool_size, 1], padding = 'VALID')\n",
    "        return output"
   ]
  },
  {
   "cell_type": "markdown",
   "metadata": {},
   "source": [
    "### 3.2: The rest of the model\n",
    "Write a `tf.Module` class called `Surrogate` that uses your classes from last week to be your surrogate model."
   ]
  },
  {
   "cell_type": "markdown",
   "metadata": {},
   "source": [
    "#### 3.2.1: Adversarial noise\n",
    "This is the only part of the model that really differs from last week, and it's a bit tricky.\n",
    "\n",
    "Add a variable to the graph that represents the adversarial noise we'll add to one example.\n",
    "It should be the shape of a single input image and initialized to zeros.\n",
    "In addition, pass (to the `Variable()` constructor) the keyword argument `constraint=lambda x: tf.clip_by_value(x, -0.3, 0.3)`.\n",
    "Every time the variable is updated, it will become the result of the lambda function, which in this case constrains its pixel values to be in the range -0.3 to 0.3.\n",
    "(Equivalently, at every step we re-project the adversarial noise back into a hypercube at the origin with side length 0.6).\n",
    "I found that 0.3 works well, but feel free to change this value -- smaller values will produce less obvious noise, while larger values will produce more successful attacks. \n",
    "\n",
    "Add a boolean `tf.Variable` (default False) named \"use_noise\" to the graph.\n",
    "This will act as a \"switch\" controlling whether a given run uses adversarial noise. Additionally, add the argument `trainable=False` to the constructor, as it makes no sense to update this variable during training.\n",
    "\n",
    "Add a `tf.cond()` operation that, depending on `use_noise`, switches between the input image and the image plus the adversarial noise.\n",
    "This allows us to train the surrogate model without adversarial noise, then enable it when crafting the adversarial example."
   ]
  },
  {
   "cell_type": "code",
   "execution_count": 20,
   "metadata": {},
   "outputs": [],
   "source": [
    "class Surrogate(tf.Module):\n",
    "    def __init__(self, name = None):\n",
    "        self.use_noise = tf.Variable(False, shape = (), trainable = False)\n",
    "        self.noise = tf.Variable(np.zeros((64, 64)), constraint = lambda x: tf.clip_by_value(x, -0.3, 0.3), dtype = tf.float32)\n",
    "        \n",
    "        self.conv1 = Conv(1, 20, filter_size = 5, stride = 1, do_activation = True, pool_size = 1, postfix = 'conv1')\n",
    "        self.conv2 = Conv(20, 20, filter_size = 3, stride = 1, do_activation = True, pool_size = 2, postfix = 'conv2')\n",
    "        \n",
    "        self.conv3 = Conv(20, 40, filter_size = 3, stride = 1, do_activation = True, pool_size = 1, postfix = 'conv3')\n",
    "        self.conv4 = Conv(40, 40, filter_size = 3, stride = 1, do_activation = True, pool_size = 2, postfix = 'conv4')\n",
    "        \n",
    "        self.conv5 = Conv(40, 80, filter_size = 3, stride = 1, do_activation = True, pool_size = 1, postfix = 'conv5')\n",
    "        self.conv6 = Conv(80, 80, filter_size = 3, stride = 1, do_activation = True, pool_size = 2, postfix = 'conv6')\n",
    "        \n",
    "        self.dense1 = Dense(64*80, 150, do_activation = True, postfix = 'dense1')\n",
    "        self.dense2 = Dense(150, 10, do_activation = False, postfix = 'dense2')\n",
    "        \n",
    "    def logits(self, x):\n",
    "        x_noise = tf.cond(self.use_noise, lambda: x + self.noise, lambda: x)\n",
    "        conv_output = self.conv6(self.conv5(self.conv4(self.conv3(self.conv2(self.conv1(x_noise))))))\n",
    "        flat = tf.reshape(conv_output, [-1, 64*80])\n",
    "        return self.dense2(self.dense1(flat))\n",
    "    \n",
    "    @tf.function\n",
    "    def __call__(self, x):\n",
    "        return tf.nn.softmax(self.logits(x), axis = 1)"
   ]
  },
  {
   "cell_type": "markdown",
   "metadata": {},
   "source": [
    "### 3.3: Compute cross-entropy loss\n",
    "Write a `_loss` function to compute the cross-entropy loss."
   ]
  },
  {
   "cell_type": "code",
   "execution_count": 21,
   "metadata": {},
   "outputs": [],
   "source": [
    "def _loss(target, actual):\n",
    "    loss = tf.nn.softmax_cross_entropy_with_logits(target, actual)\n",
    "    return tf.reduce_mean(loss)\n",
    "\n",
    "def _adv_loss(target, actual):\n",
    "    return - _loss(target, actual)\n",
    "\n",
    "def accuracy(target, actual):\n",
    "    target_idx = tf.argmax(target, axis = 1)\n",
    "    actual_idx = tf.argmax(actual, axis = 1)\n",
    "    return tf.reduce_mean(tf.cast(tf.math.equal(target_idx, actual_idx),tf.float32))"
   ]
  },
  {
   "cell_type": "markdown",
   "metadata": {},
   "source": [
    "### 3.4: Surrogate and adversarial loss and gradients\n",
    "Add an optimizer and train method we'll use to train the surrogate model to act like the target model.\n",
    "It should just minimize the cross-entropy loss between the model's predictions and the targets. When `use_noise` is false, we will not have any gradients to update the adversarial noise tensor with because it will not be referenced in our computation. This will cause TensorFlow to throw (very annoying) warning messages about nonexistent gradients. To suppress this, we can use this neat trick (credit [here](https://stackoverflow.com/questions/60022462/how-to-suppress-specific-warning-in-tensorflow-python)) to preprocess our gradients,\n",
    "```\n",
    "gradients = g.gradient(loss, model.trainable_variables)\n",
    "surrogate_optimizer.apply_gradients( \n",
    "                            (grad, var) for (grad, var) in zip(gradients, model.trainable_variables)\n",
    "                             if grad is not None)\n",
    "```\n",
    "\n",
    "When training the surrogate model, we want to change the model parameters to minimize the loss.\n",
    "When creating the adversarial example, we want to do something very different: _change the adversarial noise tensor alone to maximize the loss_.\n",
    "\n",
    "So, add an `adversarial=False` argument to your train method so we can toggle whether or not to train the surrogate model, or the adversarial noise.\n",
    "\n",
    "Define a new adversarial loss which is the negative of the original loss, and a new optimizer to minimize it.\n",
    "When you call `minimize()`, pass in the keyword argument `var_list=[model.noise]`, where \"noise\" is the name of your adversarial noise tensor.\n",
    "This will prevent the optimizer from changing the weights of the model when we optimize the adversarial noise.\n",
    "\n",
    "Add a summary scalar to plot the adversarial loss decreasing. Then, add a summary histogram and a summary image for the adversarial noise tensor, so we can plot it as we're learning the adversarial example.\n",
    "Finally, add a summary image for the output of `cond`, which will be our adversarial example later."
   ]
  },
  {
   "cell_type": "code",
   "execution_count": 24,
   "metadata": {},
   "outputs": [],
   "source": [
    "optimizer = tf.optimizers.Adam()\n",
    "\n",
    "def train(model, x, y, i, adversarial = False):\n",
    "    if not adversarial:\n",
    "        with tf.GradientTape() as g:\n",
    "            loss = _loss(tf.squeeze(y), tf.squeeze(model.logits(x)))\n",
    "        gradients = g.gradient(loss, model.trainable_variables)\n",
    "        optimizer.apply_gradients((grad, var) for (grad, var) in zip(gradients, model.trainable_variables) if grad is not None)\n",
    "        with surr_writer.as_default():\n",
    "            for gradient, variable in zip(gradients, model.trainable_variables):\n",
    "                if variable.name and gradient is not None:\n",
    "                    tf.summary.scalar('loss', loss, step = i)\n",
    "                    tf.summary.histogram('gradients/' + variable.name, tf.norm(gradient), step=i)\n",
    "                    tf.summary.histogram('variables/' + variable.name, tf.norm(variable), step=i)\n",
    "    else:\n",
    "        with tf.GradientTape() as g:\n",
    "            adv_loss = _adv_loss(tf.squeeze(y), tf.sqeeze(model.logits(x)))\n",
    "        gradients = g.gradient(adv_loss, [model.noise,])\n",
    "        optimizer.apply_gradients((grad, var) for (grad, var) in zip(gradients, [model.noise,]) if grad is not None)\n",
    "        with adv_writer.as_default():\n",
    "            tf.summary.scalar('adversarial_loss', adv_loss, step = i)\n",
    "            tf.summary.histogram('noise_tensorhistogram', tf.norm(model.noise), step = i)\n",
    "            tf.summary.image('noise_tensor_image', tf.expand_dims(model.noise, axis = -1), step = i)\n",
    "            tf.summary.image('cond_output', tf.expand_dims(tf.cond(model.use_noise, lambda: x + model.noise, lambda: x), axis = -1), step = i)\n",
    "            \n",
    "    acc = accuracy(y, model(x))\n",
    "    return acc"
   ]
  },
  {
   "cell_type": "markdown",
   "metadata": {},
   "source": [
    "## Section 4: Train the surrogate model\n",
    "Train your surrogate model until it hits high accuracy.\n",
    "At the very least it should have 90% accuracy -- I hit 98-100% on the training set.\n",
    "Overfitting isn't really a concern here since we are actually trying to memorize the target model.\n",
    "\n",
    "When the training loop is done, save the model under `./checkpoints/model_surrogate`.\n",
    "We won't be modifying this particular checkpoint any more, it'll contain the fully-trained surrogate model with zero adversarial noise."
   ]
  },
  {
   "cell_type": "code",
   "execution_count": 31,
   "metadata": {},
   "outputs": [
    {
     "name": "stdout",
     "output_type": "stream",
     "text": [
      "Average Accuracy:  0.44243777\n",
      "Average Accuracy:  0.858428\n",
      "Average Accuracy:  0.9341856\n",
      "Average Accuracy:  0.9640151\n",
      "Average Accuracy:  0.984375\n",
      "Average Accuracy:  0.99289775\n",
      "Average Accuracy:  0.99763256\n",
      "Average Accuracy:  0.9957386\n",
      "Average Accuracy:  0.99763256\n",
      "Average Accuracy:  0.99857956\n"
     ]
    },
    {
     "ename": "TypeError",
     "evalue": "__init__() takes 1 positional argument but 2 were given",
     "output_type": "error",
     "traceback": [
      "\u001b[1;31m---------------------------------------------------------------------------\u001b[0m",
      "\u001b[1;31mTypeError\u001b[0m                                 Traceback (most recent call last)",
      "\u001b[1;32m<ipython-input-31-3c3d5e2527d0>\u001b[0m in \u001b[0;36m<module>\u001b[1;34m\u001b[0m\n\u001b[0;32m     16\u001b[0m     \u001b[0mprint\u001b[0m\u001b[1;33m(\u001b[0m\u001b[1;34m'Average Accuracy: '\u001b[0m\u001b[1;33m,\u001b[0m \u001b[0mnp\u001b[0m\u001b[1;33m.\u001b[0m\u001b[0mmean\u001b[0m\u001b[1;33m(\u001b[0m\u001b[0mtest_acc\u001b[0m\u001b[1;33m)\u001b[0m\u001b[1;33m)\u001b[0m\u001b[1;33m\u001b[0m\u001b[1;33m\u001b[0m\u001b[0m\n\u001b[0;32m     17\u001b[0m \u001b[1;33m\u001b[0m\u001b[0m\n\u001b[1;32m---> 18\u001b[1;33m \u001b[0mtf\u001b[0m\u001b[1;33m.\u001b[0m\u001b[0mtrain\u001b[0m\u001b[1;33m.\u001b[0m\u001b[0mCheckpoint\u001b[0m\u001b[1;33m(\u001b[0m\u001b[0msurrogate_model\u001b[0m\u001b[1;33m)\u001b[0m\u001b[1;33m.\u001b[0m\u001b[0msave\u001b[0m\u001b[1;33m(\u001b[0m\u001b[1;34m'./checkpoints/model_surrogate'\u001b[0m\u001b[1;33m)\u001b[0m\u001b[1;33m\u001b[0m\u001b[1;33m\u001b[0m\u001b[0m\n\u001b[0m",
      "\u001b[1;31mTypeError\u001b[0m: __init__() takes 1 positional argument but 2 were given"
     ]
    }
   ],
   "source": [
    "surrogate_model = Surrogate()\n",
    "train_batch = 0\n",
    "num_epochs = 10\n",
    "\n",
    "for i in range(num_epochs):\n",
    "    test_acc = []\n",
    "    for x, y in dataset_train:\n",
    "        if train_batch == 0:\n",
    "            tf.summary.trace_on(graph=True, profiler=True)\n",
    "            surrogate_model(x)\n",
    "            with surr_writer.as_default():\n",
    "                tf.summary.trace_export(name = 'first training batch', step = 0, profiler_outdir = 'dataset')\n",
    "        acc = train(surrogate_model, x, y, train_batch)\n",
    "        test_acc.append(acc)\n",
    "        train_batch += 1\n",
    "    print('Average Accuracy: ', np.mean(test_acc))\n",
    "        \n",
    "tf.train.Checkpoint(surrogate_model).save('./checkpoints/model_surrogate')"
   ]
  },
  {
   "cell_type": "markdown",
   "metadata": {},
   "source": [
    "## Section 5: Learn the adversarial example\n",
    "Finally, it's time to create an adversarial example using our surrogate model.\n",
    "Pick an image from the test set (or use the one I picked below), then run a training loop to minimize the adversarial loss (equivalently, maximize the model loss on that example).\n",
    "To do this, use `surrogate_model.use_noise.assign(True)`.\n",
    "This turns on the `use_noise` switch we set before, and overwrites the input image with the image we're going to turn into an adversarial example.\n",
    "\n",
    "When it's done, save it to a new checkpoint, `./checkpoints/model_adversarial`.\n",
    "This new checkpoint should have exactly the same model parameters as before (remember that we're only optimizing the noise), but a nonzero noise tensor.\n",
    "\n",
    "At the end, also save the adversarial example (which will be contained in the result of your `cond`) and the noise tensor to a numpy array so we can use them later.\n",
    "\n",
    "Periodically write the image and histogram summaries so you can look at them in TensorBoard later. \n",
    "\n",
    "You should be able to do this just by setting `adversarial=True` in your train method."
   ]
  },
  {
   "cell_type": "code",
   "execution_count": null,
   "metadata": {},
   "outputs": [],
   "source": [
    "# Pick and plot the image we'll turn into an adversarial example\n",
    "idx = 1\n",
    "img = x_test[idx]\n",
    "lbl = y_test[idx]\n",
    "\n",
    "plt.imshow(img[:, :, 0], cmap='gray')\n",
    "plt.title('True label: {}'.format(np.argmax(lbl)))"
   ]
  },
  {
   "cell_type": "code",
   "execution_count": null,
   "metadata": {},
   "outputs": [],
   "source": [
    "# Your code here"
   ]
  },
  {
   "cell_type": "markdown",
   "metadata": {},
   "source": [
    "## Section 6: Visualize the adversarial example\n",
    "Plot the original example, the adversarial example, and the adversarial noise below."
   ]
  },
  {
   "cell_type": "code",
   "execution_count": null,
   "metadata": {},
   "outputs": [],
   "source": [
    "# Your code here"
   ]
  },
  {
   "cell_type": "markdown",
   "metadata": {},
   "source": [
    "## Section 7: Demonstrate that the surrogate model fails on the adversarial example\n",
    "Compute the surrogate model's prediction and probability for the original example and the adversarial example, and compare them. Remember to set the `use_noise` switch to false when computing predictions."
   ]
  },
  {
   "cell_type": "code",
   "execution_count": null,
   "metadata": {},
   "outputs": [],
   "source": [
    "# Your code here"
   ]
  },
  {
   "cell_type": "markdown",
   "metadata": {},
   "source": [
    "## 8: Demonstrate that the target model fails on the adversarial example\n",
    "This is the real test -- transferring the learned adversarial example from the surrogate model to the target model.\n",
    "Compute the target model's prediction and probability for the original example and the adversarial example, and compare them."
   ]
  },
  {
   "cell_type": "code",
   "execution_count": null,
   "metadata": {},
   "outputs": [],
   "source": [
    "# Your code here"
   ]
  },
  {
   "cell_type": "markdown",
   "metadata": {},
   "source": [
    "# Congratulations, you've carried out a black-box adversarial attack!\n",
    "These kinds of adversarial attacks are a serious concern in the real world, since they can be [made to work when printed on paper](https://blog.openai.com/robust-adversarial-inputs/) and [we're still bad at defending against them](https://blog.openai.com/adversarial-example-research/).\n",
    "\n",
    "Some interesting things to try:\n",
    " - Did the surrogate model and the target model misclassify the adversarial example in the same way? (Mine did)\n",
    " - How subtle can you make the noise while still tricking the target network?\n",
    " - Look at how the adversarial example evolves through training in TensorBoard"
   ]
  }
 ],
 "metadata": {
  "kernelspec": {
   "display_name": "Python 3",
   "language": "python",
   "name": "python3"
  },
  "language_info": {
   "codemirror_mode": {
    "name": "ipython",
    "version": 3
   },
   "file_extension": ".py",
   "mimetype": "text/x-python",
   "name": "python",
   "nbconvert_exporter": "python",
   "pygments_lexer": "ipython3",
   "version": "3.7.4"
  }
 },
 "nbformat": 4,
 "nbformat_minor": 2
}

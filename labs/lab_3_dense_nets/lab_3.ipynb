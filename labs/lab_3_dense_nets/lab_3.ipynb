{
 "cells": [
  {
   "cell_type": "markdown",
   "metadata": {},
   "source": [
    "# Lab 3: Mapping with Fully-Connected Networks\n",
    "Blocks of dense layers are really good at memorizing patterns.\n",
    "This week we'll step outside the traditional \"prediction\" regime of machine learning and use a fully-connected network (FCN) to represent a 2-D scene in its weight by interpolating between known points.\n",
    "\n",
    "Throughout, you should be impressed by two (related) properties of dense neural nets:\n",
    " - They have high enough capacity to entirely memorize complex patterns\n",
    " - They are sufficiently nonlinear to build these patterns up from simple inputs (like (x, y) coordinates in this case)"
   ]
  },
  {
   "cell_type": "code",
   "execution_count": 20,
   "metadata": {},
   "outputs": [],
   "source": [
    "%matplotlib inline\n",
    "\n",
    "import numpy as np\n",
    "import tensorflow as tf\n",
    "import matplotlib.pyplot as plt\n",
    "\n",
    "from tqdm import tqdm"
   ]
  },
  {
   "cell_type": "markdown",
   "metadata": {},
   "source": [
    "# Pointcloud mapping\n",
    "\n",
    "![full scene](./images/full_scene.png)\n",
    "\n",
    "### The problem\n",
    "Imagine there is a square (2-D) room with four walls and several square and circular objects in it.\n",
    "We put laser distance sensors around the room, which shoot rays that continue until they hit an object or a wall and report the distance, with limited angular and radial resolution.\n",
    "We want to use this limited data to produce a full 2-D reconstruction of the scene, filling in points the sensors haven't observed with likely values (in essence, interpolating).\n",
    "\n",
    "### The data\n",
    "We know that every ray that there's an object at the point each ray hit, and we also know that there's no object between the camera and the contact point.\n",
    "The data is provided as (x, y) pairs, where some points correspond to places we know are on object boundaries (shown in green above) and points we know are not inside objects (shown in red above).\n",
    "\n",
    "These points come in two data files: `data/positives.txt` for points on the edge of objects, and `data/negatives.txt` for points outside of objects.\n",
    "To generate these files, run `make_data.py`.\n",
    "\n",
    "(Check out the code if you want to see how the points are generated, but don't change anything!)\n",
    "\n",
    "### The model\n",
    "We want to store a full description of the scene in the weights of a neural network.\n",
    "To do this, we'll train a FCN to classify (x, y) points by whether or not they are the edge of a wall or object.\n",
    "Then, we can draw the scene by sampling (x, y) pairs and drawing the model's output.\n",
    "So, the network has \"memorized\" where the objects and walls are, and what their shapes are."
   ]
  },
  {
   "cell_type": "markdown",
   "metadata": {},
   "source": [
    "# Section 1: Load the data\n",
    "Load the data using `np.loadtxt()` (default arguments should work), then convert it to a usable format with a feature array and label array, which is 1 if a point is the edge of an object and 0 if it is not.\n",
    "\n",
    "Functions to look at:\n",
    " - `np.loadtxt`\n",
    " - `np.concatenate`"
   ]
  },
  {
   "cell_type": "code",
   "execution_count": 2,
   "metadata": {},
   "outputs": [],
   "source": [
    "# Loading the dataset\n",
    "pos = np.loadtxt('positives.txt')\n",
    "neg = np.loadtxt('negatives.txt')\n",
    "\n",
    "# Creating the labels\n",
    "pos_label = np.ones(pos.shape[0])\n",
    "neg_label = np.zeros(neg.shape[0])\n",
    "\n",
    "# Joining the separate datasets together, for both the datapoints and labels\n",
    "dataset = np.concatenate((pos, neg))\n",
    "labels = np.concatenate((pos_label, neg_label))"
   ]
  },
  {
   "cell_type": "markdown",
   "metadata": {},
   "source": [
    "# Section 2: Build a data pipeline\n",
    "Set up a `tf.data.Dataset` and a `tf.summary.SummaryWriter`.\n",
    "This time, there's no test set, just a single dataset. You may want to use the `repeat` method on the dataset for the number of desired epochs. If so, call it after caching so as not to store redundant data."
   ]
  },
  {
   "cell_type": "code",
   "execution_count": 3,
   "metadata": {},
   "outputs": [],
   "source": [
    "# Hyperparameters\n",
    "epochs = 100\n",
    "batch_size = 1000\n",
    "batches_per_epoch = dataset.shape[0] // batch_size\n",
    "\n",
    "# Creating a tensorflow dataset, shuffling, batching, and cacheing it\n",
    "tf_dataset = tf.data.Dataset.from_tensor_slices((dataset, labels)).shuffle(dataset.shape[0]).batch(batch_size).cache()\n",
    "\n",
    "# Creating the SummaryWriter\n",
    "summary_writer = tf.summary.create_file_writer('./training')"
   ]
  },
  {
   "cell_type": "markdown",
   "metadata": {},
   "source": [
    "# Section 3: Build a model graph\n",
    "The model is a simple fully-connected neural network with four hidden layers, each with 64 units, and an output layer that performs binary classification with sigmoid activation.\n",
    "Recall that the input is just a pair (x, y).\n",
    "\n",
    "Functions to look at throughout:\n",
    " - `tf.cast`\n",
    " - `tf.expand_dims`\n",
    " - `tf.squeeze`\n",
    " - arithmetic operations"
   ]
  },
  {
   "cell_type": "markdown",
   "metadata": {},
   "source": [
    "### 3.1: Class to make dense layers\n",
    "It's tedious (and bad design) to explicitly write out every variable, matrix multiplication, etc.\n",
    "Instead, it's common to define classes that create one of a structure you expect to repeat in your model.\n",
    "\n",
    "Write a `tf.Module` class called `Dense`, which has its signature and scopes defined as a stub below.\n",
    "When called, it should add variables and operations to the graph which implement a single dense layer.\n",
    "\n",
    "If `do_activation` is True, it should apply ReLU activation to the computed values.\n",
    "To do this, you can use `tf.nn.relu`."
   ]
  },
  {
   "cell_type": "code",
   "execution_count": 4,
   "metadata": {},
   "outputs": [],
   "source": [
    "class Dense(tf.Module):\n",
    "    '''\n",
    "    Creates a dense layer module.\n",
    "    \n",
    "    Parameters\n",
    "    ----------\n",
    "    dim_input: int\n",
    "        Number of features in the input representation.\n",
    "    dim_output: int\n",
    "        Number of features in the output representation.\n",
    "        Equivalently, number of units in this layer.\n",
    "    do_activation: bool\n",
    "        Whether or not to apply ReLU activation.\n",
    "    postfix: string\n",
    "        Postfix on name scopes in this layer.\n",
    "        Used to simplify visualizations.\n",
    "    name: string\n",
    "        Name of layer.\n",
    "        \n",
    "    Returns\n",
    "    -------\n",
    "    A tensor representing the activations of this layer.\n",
    "    '''\n",
    "    def __init__(self, dim_input, dim_output, do_activation=True, postfix='', name=None):\n",
    "        super().__init__(name=name)\n",
    "        with tf.name_scope('dense' + postfix):\n",
    "            self.weights = tf.Variable(tf.initializers.he_uniform()(shape = (dim_input, dim_output), dtype = tf.float64), name = 'weights-' + postfix)\n",
    "            self.bias = tf.Variable(tf.zeros_initializer()(shape = dim_output, dtype = tf.float64), name = 'bias-' + postfix)\n",
    "            self.do_activation = do_activation\n",
    "        \n",
    "    def __call__(self, x):\n",
    "        output = tf.math.add(tf.matmul(x, self.weights), self.bias)\n",
    "        if self.do_activation:\n",
    "            activations = tf.nn.relu(output)\n",
    "            return activations\n",
    "        return output"
   ]
  },
  {
   "cell_type": "markdown",
   "metadata": {},
   "source": [
    "### 3.2: Class to make neural network\n",
    "Use the `Dense` class to make four dense layers contained as fields in a `tf.Module` class called `FeedForward`.\n",
    "Each should have 64 units, the correct input dimensions, and a distinct (and meaningful) postfix."
   ]
  },
  {
   "cell_type": "markdown",
   "metadata": {},
   "source": [
    "#### 3.2.1: Compute logit\n",
    "Use the `Dense` class to make a final dense layer with `dim_output=1` to compute the final logit. You'll want to put this in a method called `logits` which should take in `self` and an input."
   ]
  },
  {
   "cell_type": "markdown",
   "metadata": {},
   "source": [
    "#### 3.2.2: Compute class probability for output\n",
    "Use `tf.sigmoid` to compute the probability that the input coordinate is a boundary point.\n",
    "We will not use this for the loss, just for the output. You'll want to put this in the `__call__` method."
   ]
  },
  {
   "cell_type": "markdown",
   "metadata": {},
   "source": [
    "#### 3.2.3: Trace function\n",
    "Decorate the `__call__` method with `@tf.function` in order to run a model trace for TensorBoard. I have defined this method for you here, but will not in the future."
   ]
  },
  {
   "cell_type": "code",
   "execution_count": 5,
   "metadata": {},
   "outputs": [],
   "source": [
    "class FeedForward(tf.Module):\n",
    "    def __init__(self, name=None):\n",
    "        self.dense1 = Dense(dataset.shape[1], 64, do_activation = True, postfix = 'dense_layer_1')\n",
    "        self.dense2 = Dense(64, 64, do_activation = True, postfix = 'dense_layer_2')\n",
    "        self.dense3 = Dense(64, 64, do_activation = True, postfix = 'dense_layer_3')\n",
    "        self.dense4 = Dense(64, 64, do_activation = True, postfix = 'dense_layer_4')\n",
    "        self.dense5 = Dense(64, 1, do_activation = False, postfix = 'dense_layer_final')\n",
    "    \n",
    "    def logits(self, x):\n",
    "        return self.dense5(self.dense4(self.dense3(self.dense2(self.dense1(x)))))\n",
    "    \n",
    "    @tf.function\n",
    "    def __call__(self, x):\n",
    "        prob = tf.sigmoid(self.logits(x))\n",
    "        return prob"
   ]
  },
  {
   "cell_type": "markdown",
   "metadata": {},
   "source": [
    "### 3.3: Compute weighted cross-entropy loss\n",
    "There are about 33 times as many non-boundary coordinates as there are boundary coordinates.\n",
    "To prevent the network from just learning to predict that every coordinate is not a boundary, we should weight the loss function to consider boundary pixels more heavily.\n",
    "\n",
    "To do this, use `tf.nn.weighted_cross_entropy_with_logits()` on the logits computed before, plus the input label, and a positive weight of 20.\n",
    "Then, produce the mean loss for the batch with `tf.reduce_mean`. Put this in a `_loss` method."
   ]
  },
  {
   "cell_type": "code",
   "execution_count": 6,
   "metadata": {},
   "outputs": [],
   "source": [
    "def _loss(target, actual):\n",
    "    loss = tf.nn.weighted_cross_entropy_with_logits(target, actual, 20)\n",
    "    loss = tf.reduce_mean(loss)\n",
    "    return loss"
   ]
  },
  {
   "cell_type": "markdown",
   "metadata": {},
   "source": [
    "### 3.4: Optimizer and gradients\n",
    "Make an optimizer (I used `tf.optimizers.SGD` with `learning_rate=2e-3` and `momentum=0.9`).\n",
    "Then write a train method (taking in a model, input, output, and step), that represents one step of training, where you explicitly compute the gradients in a variable called `gradients` (so we can plot them below) and make an operation that applies those gradients to the graph.\n",
    "\n",
    "Note: don't use `optimizer.minimize`, which will result in computing the gradients twice since we already have them from `GradientTape.gradient`. Add a summary scalar to plot loss in TensorBoard."
   ]
  },
  {
   "cell_type": "markdown",
   "metadata": {},
   "source": [
    "#### 3.4.1: Plot variables and gradients\n",
    "You don't need to do this for every model, but it's illustrative to do at least once. I've written the code for this below, with a pattern borrowed from http://matpalm.com/blog/viz_gradient_norms/. Put this code snippet under the same `with` block where you add your loss summary scalar.\n",
    "\n",
    "```\n",
    "for gradient, variable in zip(gradients, model.trainable_variables):\n",
    "    if variable.name and gradient is not None:\n",
    "        tf.summary.histogram('gradients/' + variable.name, tf.norm(gradient), step=i)\n",
    "        tf.summary.histogram('variables/' + variable.name, tf.norm(variable), step=i)\n",
    "```"
   ]
  },
  {
   "cell_type": "code",
   "execution_count": 17,
   "metadata": {},
   "outputs": [],
   "source": [
    "optimizer = tf.optimizers.SGD(2e-3, 0.9)\n",
    "\n",
    "def train(model, x, y, i):\n",
    "    with tf.GradientTape() as g:\n",
    "        loss = _loss(tf.squeeze(y), tf.squeeze(model(x)))\n",
    "        \n",
    "    gradients = g.gradient(loss, model.trainable_variables)\n",
    "    optimizer.apply_gradients(zip(gradients, model.trainable_variables))\n",
    "    \n",
    "    with summary_writer.as_default():\n",
    "        for gradient, variable in zip(gradients, model.trainable_variables):\n",
    "            if variable.name and gradient is not None:\n",
    "                tf.summary.histogram('gradients/' + variable.name, tf.norm(gradient), step=i)\n",
    "                tf.summary.histogram('variables/' + variable.name, tf.norm(variable), step=i)\n",
    "        tf.summary.scalar('loss', loss, step = i)"
   ]
  },
  {
   "cell_type": "markdown",
   "metadata": {},
   "source": [
    "# Section 4: train the model\n",
    "Same as last time, except there's no test set.\n",
    "You don't need to distinguish between epochs and steps here, but do run a full trace on the first batch to get the model graph in TensorBoard.\n",
    "\n",
    "I used 50 epochs, and got a final cross-entropy loss of about 0.4.\n",
    "You might not need to use this many epochs to get reasonable results, but more will get crisper results.\n",
    "\n",
    "This might take a while on CPUs, so if it's taking too long, think about:\n",
    " - Using Google Colaboratory\n",
    " - Increasing your batch size\n",
    " - Reducing the frequency with which you run summary ops\n",
    " \n",
    "Watching plots, histograms, etc in TensorBoard as the model trains can be fun."
   ]
  },
  {
   "cell_type": "code",
   "execution_count": 21,
   "metadata": {},
   "outputs": [
    {
     "name": "stderr",
     "output_type": "stream",
     "text": [
      "100%|████████████████████████████████████████████████████████████████████████████████| 100/100 [10:01<00:00,  6.02s/it]\n"
     ]
    }
   ],
   "source": [
    "model = FeedForward()\n",
    "train_batch = 0\n",
    "\n",
    "for i in tqdm(range(epochs)):\n",
    "    for x, y in tf_dataset:\n",
    "        if train_batch == 0:\n",
    "            tf.summary.trace_on(graph = True, profiler = True)\n",
    "            model(x)\n",
    "            with summary_writer.as_default():\n",
    "                tf.summary.trace_export(name = 'first training batch', step = 0, profiler_outdir = 'training')\n",
    "        train(model, x, y, train_batch)\n",
    "        train_batch += 1\n",
    "        "
   ]
  },
  {
   "cell_type": "markdown",
   "metadata": {},
   "source": [
    "# Section 5: Plot the model\n",
    "Let's see what the network learned.\n",
    "Generate 100 x values and 100 y values, each in the range (-1, 1).\n",
    "Then compute the value of `probability` (the sigmoid output of your model) using every coordinate in that grid (every pairwise combination of x and y values), and plot a \"map\" of those probabilities using `plt.scatter()` (check out the `c` argument)."
   ]
  },
  {
   "cell_type": "code",
   "execution_count": 34,
   "metadata": {},
   "outputs": [
    {
     "data": {
      "text/plain": [
       "<matplotlib.collections.PathCollection at 0x251857eda08>"
      ]
     },
     "execution_count": 34,
     "metadata": {},
     "output_type": "execute_result"
    },
    {
     "data": {
      "image/png": "[encoded data removed]",
      "text/plain": [
       "<Figure size 432x288 with 1 Axes>"
      ]
     },
     "metadata": {
      "needs_background": "light"
     },
     "output_type": "display_data"
    }
   ],
   "source": [
    "X = np.linspace(0,1,num = 100)\n",
    "Y = np.linspace(0,1,num = 100)\n",
    "preds = []\n",
    "\n",
    "for x in X:\n",
    "    for y in Y:\n",
    "        data = tf.Variable([[x,y]], dtype = tf.float64)\n",
    "        preds.append(np.array(model(data)))\n",
    "\n",
    "plt.figure()\n",
    "plt.scatter(X, Y)"
   ]
  },
  {
   "cell_type": "markdown",
   "metadata": {},
   "source": [
    "# Section 6: TensorBoard plots\n",
    "This time, we have some more interesting TensorBoard plots than last time.\n",
    "Run TensorBoard, and look at:\n",
    " - The model graph in Graphs\n",
    " - The loss over time in Scalars\n",
    " - The weights, biases, and gradients over time in Distributions and Histograms\n",
    " \n",
    "The loss should decrease over time, and eventually stabilize (with some noise).\n",
    "\n",
    "The gradients for weights and biases may not go to zero, and your weights and biases may not look like they're converging.\n",
    "This is because of \"bias drift\" where multiple possible settings of weights and biases have the same loss value.\n",
    "To fix this, we could add a term to the loss which penalizes the model slightly based on the magnitude of the bias terms."
   ]
  },
  {
   "cell_type": "markdown",
   "metadata": {},
   "source": [
    "# Section 7: Again, but in Keras\n",
    "Make a Keras Sequential model which is equivalent to the one we've trained in TensorFlow.\n",
    "Train it on the same dataset, and again plot its output in the same way. \n",
    "\n",
    "Hints:\n",
    " - This won't take nearly as long as the previous sections\n",
    " - You don't need to use `keras.utils.to_categorical` since this is binary classification.\n",
    " - The appropriate loss function is 'binary_crossentropy'\n",
    " - To implement the same loss weighting, use `class_weight={0: 1.0, 1:20.0}` in `model.fit()`\n",
    " - You can get the outputs of the model over the entire grid at once with `model.predict()`"
   ]
  },
  {
   "cell_type": "markdown",
   "metadata": {},
   "source": [
    "### 7.1: Build a model\n",
    "Use `keras.models.Sequential` to build the same FCN as before."
   ]
  },
  {
   "cell_type": "code",
   "execution_count": 73,
   "metadata": {},
   "outputs": [],
   "source": [
    "import keras\n",
    "from keras.models import Sequential\n",
    "from keras.layers import Dense, Activation\n",
    "\n",
    "model = Sequential()\n",
    "\n",
    "model.add(Dense(64, input_shape=(2,), activation = 'relu'))\n",
    "model.add(Dense(64, activation = 'relu'))\n",
    "model.add(Dense(64, activation = 'relu'))\n",
    "model.add(Dense(64, activation = 'relu'))\n",
    "\n",
    "model.add(Dense(1, activation = 'sigmoid'))"
   ]
  },
  {
   "cell_type": "markdown",
   "metadata": {},
   "source": [
    "### 7.2: Define an optimizer and compile the model"
   ]
  },
  {
   "cell_type": "code",
   "execution_count": 74,
   "metadata": {},
   "outputs": [],
   "source": [
    "from keras.optimizers import Adam\n",
    "\n",
    "optimizer = SGD(lr = 2e-2, momentum = 0.9)\n",
    "\n",
    "model.compile(optimizer = 'adam',\n",
    "             loss = 'binary_crossentropy',\n",
    "             metrics=['binary_accuracy',\n",
    "                       'binary_crossentropy'])"
   ]
  },
  {
   "cell_type": "markdown",
   "metadata": {},
   "source": [
    "### 7.3: Fit the model"
   ]
  },
  {
   "cell_type": "code",
   "execution_count": 75,
   "metadata": {
    "scrolled": true
   },
   "outputs": [
    {
     "name": "stdout",
     "output_type": "stream",
     "text": [
      "Epoch 1/50\n",
      "28556/28556 [==============================] - 4s 132us/step - loss: 1.2160 - binary_accuracy: 0.6327 - binary_crossentropy: 0.6336\n",
      "Epoch 2/50\n",
      "28556/28556 [==============================] - 3s 113us/step - loss: 1.0987 - binary_accuracy: 0.5340 - binary_crossentropy: 0.5805\n",
      "Epoch 3/50\n",
      "28556/28556 [==============================] - 3s 119us/step - loss: 1.0272 - binary_accuracy: 0.5278 - binary_crossentropy: 0.5511\n",
      "Epoch 4/50\n",
      "28556/28556 [==============================] - 3s 119us/step - loss: 0.9467 - binary_accuracy: 0.6334 - binary_crossentropy: 0.5145\n",
      "Epoch 5/50\n",
      "28556/28556 [==============================] - 4s 128us/step - loss: 0.8694 - binary_accuracy: 0.7024 - binary_crossentropy: 0.4848\n",
      "Epoch 6/50\n",
      "28556/28556 [==============================] - 4s 130us/step - loss: 0.7639 - binary_accuracy: 0.7451 - binary_crossentropy: 0.4281\n",
      "Epoch 7/50\n",
      "28556/28556 [==============================] - 4s 129us/step - loss: 0.6801 - binary_accuracy: 0.7736 - binary_crossentropy: 0.3911\n",
      "Epoch 8/50\n",
      "28556/28556 [==============================] - 3s 122us/step - loss: 0.6248 - binary_accuracy: 0.7973 - binary_crossentropy: 0.3625\n",
      "Epoch 9/50\n",
      "28556/28556 [==============================] - 4s 126us/step - loss: 0.6149 - binary_accuracy: 0.8082 - binary_crossentropy: 0.3539\n",
      "Epoch 10/50\n",
      "28556/28556 [==============================] - 4s 126us/step - loss: 0.5596 - binary_accuracy: 0.8219 - binary_crossentropy: 0.3312\n",
      "Epoch 11/50\n",
      "28556/28556 [==============================] - 4s 141us/step - loss: 0.5122 - binary_accuracy: 0.8414 - binary_crossentropy: 0.3051\n",
      "Epoch 12/50\n",
      "28556/28556 [==============================] - 4s 135us/step - loss: 0.5043 - binary_accuracy: 0.8392 - binary_crossentropy: 0.3065\n",
      "Epoch 13/50\n",
      "28556/28556 [==============================] - 3s 120us/step - loss: 0.4963 - binary_accuracy: 0.8440 - binary_crossentropy: 0.3010\n",
      "Epoch 14/50\n",
      "28556/28556 [==============================] - 3s 122us/step - loss: 0.5053 - binary_accuracy: 0.8386 - binary_crossentropy: 0.3117\n",
      "Epoch 15/50\n",
      "28556/28556 [==============================] - 3s 120us/step - loss: 0.4678 - binary_accuracy: 0.8501 - binary_crossentropy: 0.2869\n",
      "Epoch 16/50\n",
      "28556/28556 [==============================] - 3s 119us/step - loss: 0.4447 - binary_accuracy: 0.8605 - binary_crossentropy: 0.2692\n",
      "Epoch 17/50\n",
      "28556/28556 [==============================] - 3s 120us/step - loss: 0.4305 - binary_accuracy: 0.8693 - binary_crossentropy: 0.2652\n",
      "Epoch 18/50\n",
      "28556/28556 [==============================] - 4s 125us/step - loss: 0.4256 - binary_accuracy: 0.8731 - binary_crossentropy: 0.2689\n",
      "Epoch 19/50\n",
      "28556/28556 [==============================] - 4s 147us/step - loss: 0.4038 - binary_accuracy: 0.8829 - binary_crossentropy: 0.2487 2s - loss: 0.4140 - binary_ac\n",
      "Epoch 20/50\n",
      "28556/28556 [==============================] - 4s 126us/step - loss: 0.4438 - binary_accuracy: 0.8743 - binary_crossentropy: 0.2666\n",
      "Epoch 21/50\n",
      "28556/28556 [==============================] - 4s 124us/step - loss: 0.3982 - binary_accuracy: 0.8839 - binary_crossentropy: 0.2494\n",
      "Epoch 22/50\n",
      "28556/28556 [==============================] - 4s 126us/step - loss: 0.3881 - binary_accuracy: 0.8898 - binary_crossentropy: 0.2395\n",
      "Epoch 23/50\n",
      "28556/28556 [==============================] - 4s 143us/step - loss: 0.4226 - binary_accuracy: 0.8793 - binary_crossentropy: 0.2625\n",
      "Epoch 24/50\n",
      "28556/28556 [==============================] - 4s 134us/step - loss: 0.4125 - binary_accuracy: 0.8770 - binary_crossentropy: 0.2579\n",
      "Epoch 25/50\n",
      "28556/28556 [==============================] - 3s 122us/step - loss: 0.4088 - binary_accuracy: 0.8843 - binary_crossentropy: 0.2546\n",
      "Epoch 26/50\n",
      "28556/28556 [==============================] - 3s 121us/step - loss: 0.3672 - binary_accuracy: 0.8904 - binary_crossentropy: 0.2308\n",
      "Epoch 27/50\n",
      "28556/28556 [==============================] - 5s 160us/step - loss: 0.3777 - binary_accuracy: 0.8939 - binary_crossentropy: 0.2352\n",
      "Epoch 28/50\n",
      "28556/28556 [==============================] - 3s 120us/step - loss: 0.3541 - binary_accuracy: 0.8988 - binary_crossentropy: 0.2227\n",
      "Epoch 29/50\n",
      "28556/28556 [==============================] - 3s 121us/step - loss: 0.3712 - binary_accuracy: 0.8973 - binary_crossentropy: 0.2327\n",
      "Epoch 30/50\n",
      "28556/28556 [==============================] - 4s 126us/step - loss: 0.3303 - binary_accuracy: 0.9046 - binary_crossentropy: 0.2103\n",
      "Epoch 31/50\n",
      "28556/28556 [==============================] - 4s 132us/step - loss: 0.3326 - binary_accuracy: 0.9082 - binary_crossentropy: 0.2093\n",
      "Epoch 32/50\n",
      " 1600/28556 [>.............................] - ETA: 24s - loss: 0.2317 - binary_accuracy: 0.9356 - binary_crossentropy: 0.1420"
     ]
    },
    {
     "name": "stderr",
     "output_type": "stream",
     "text": [
      "C:\\Users\\Ammu\\Anaconda3\\lib\\site-packages\\keras\\callbacks\\callbacks.py:95: RuntimeWarning: Method (on_train_batch_end) is slow compared to the batch update (0.144613). Check your callbacks.\n",
      "  % (hook_name, delta_t_median), RuntimeWarning)\n"
     ]
    },
    {
     "name": "stdout",
     "output_type": "stream",
     "text": [
      "28556/28556 [==============================] - 5s 164us/step - loss: 0.3695 - binary_accuracy: 0.9001 - binary_crossentropy: 0.2310\n",
      "Epoch 33/50\n",
      "28556/28556 [==============================] - 3s 117us/step - loss: 0.3535 - binary_accuracy: 0.9011 - binary_crossentropy: 0.2267\n",
      "Epoch 34/50\n",
      "28556/28556 [==============================] - 3s 117us/step - loss: 0.3430 - binary_accuracy: 0.9038 - binary_crossentropy: 0.2190\n",
      "Epoch 35/50\n",
      "28556/28556 [==============================] - 3s 122us/step - loss: 0.3411 - binary_accuracy: 0.9052 - binary_crossentropy: 0.2125\n",
      "Epoch 36/50\n",
      "28556/28556 [==============================] - 4s 135us/step - loss: 0.3249 - binary_accuracy: 0.9086 - binary_crossentropy: 0.2078\n",
      "Epoch 37/50\n",
      "28556/28556 [==============================] - 4s 130us/step - loss: 0.3180 - binary_accuracy: 0.9128 - binary_crossentropy: 0.1996\n",
      "Epoch 38/50\n",
      "28556/28556 [==============================] - 3s 122us/step - loss: 0.3389 - binary_accuracy: 0.9077 - binary_crossentropy: 0.2127\n",
      "Epoch 39/50\n",
      "28556/28556 [==============================] - 4s 128us/step - loss: 0.3226 - binary_accuracy: 0.9084 - binary_crossentropy: 0.2075\n",
      "Epoch 40/50\n",
      "28556/28556 [==============================] - 4s 125us/step - loss: 0.3388 - binary_accuracy: 0.9066 - binary_crossentropy: 0.2158\n",
      "Epoch 41/50\n",
      "28556/28556 [==============================] - 4s 137us/step - loss: 0.3143 - binary_accuracy: 0.9114 - binary_crossentropy: 0.2024\n",
      "Epoch 42/50\n",
      "28556/28556 [==============================] - 4s 140us/step - loss: 0.3241 - binary_accuracy: 0.9115 - binary_crossentropy: 0.2115\n",
      "Epoch 43/50\n",
      "28556/28556 [==============================] - 4s 127us/step - loss: 0.3026 - binary_accuracy: 0.9163 - binary_crossentropy: 0.1944 1s - loss: 0.3259 - binary_accuracy: 0.9115 - bi\n",
      "Epoch 44/50\n",
      "28556/28556 [==============================] - 4s 124us/step - loss: 0.3500 - binary_accuracy: 0.9092 - binary_crossentropy: 0.2173\n",
      "Epoch 45/50\n",
      "28556/28556 [==============================] - 4s 123us/step - loss: 0.3229 - binary_accuracy: 0.9121 - binary_crossentropy: 0.2045 2s - loss: 0.39\n",
      "Epoch 46/50\n",
      "28556/28556 [==============================] - 4s 139us/step - loss: 0.3037 - binary_accuracy: 0.9161 - binary_crossentropy: 0.1952\n",
      "Epoch 47/50\n",
      "28556/28556 [==============================] - 4s 134us/step - loss: 0.3244 - binary_accuracy: 0.9122 - binary_crossentropy: 0.2058\n",
      "Epoch 48/50\n",
      "28556/28556 [==============================] - 4s 126us/step - loss: 0.3233 - binary_accuracy: 0.9147 - binary_crossentropy: 0.2002\n",
      "Epoch 49/50\n",
      "28556/28556 [==============================] - 4s 127us/step - loss: 0.3126 - binary_accuracy: 0.9144 - binary_crossentropy: 0.1993\n",
      "Epoch 50/50\n",
      "28556/28556 [==============================] - 4s 125us/step - loss: 0.3278 - binary_accuracy: 0.9136 - binary_crossentropy: 0.2080\n"
     ]
    },
    {
     "data": {
      "text/plain": [
       "<keras.callbacks.callbacks.History at 0x1faf978b148>"
      ]
     },
     "execution_count": 75,
     "metadata": {},
     "output_type": "execute_result"
    }
   ],
   "source": [
    "model.fit(dataset, labels,\n",
    "         epochs = 50, batch_size = 32,\n",
    "         class_weight = {0: 1.0, 1: 30.0})"
   ]
  },
  {
   "cell_type": "markdown",
   "metadata": {},
   "source": [
    "### 7.4: Plot the model"
   ]
  },
  {
   "cell_type": "code",
   "execution_count": 63,
   "metadata": {},
   "outputs": [
    {
     "data": {
      "image/png": "[encoded data removed]",
      "text/plain": [
       "<Figure size 432x288 with 1 Axes>"
      ]
     },
     "metadata": {
      "needs_background": "light"
     },
     "output_type": "display_data"
    }
   ],
   "source": []
  },
  {
   "cell_type": "code",
   "execution_count": null,
   "metadata": {},
   "outputs": [],
   "source": []
  }
 ],
 "metadata": {
  "kernelspec": {
   "display_name": "Python 3",
   "language": "python",
   "name": "python3"
  },
  "language_info": {
   "codemirror_mode": {
    "name": "ipython",
    "version": 3
   },
   "file_extension": ".py",
   "mimetype": "text/x-python",
   "name": "python",
   "nbconvert_exporter": "python",
   "pygments_lexer": "ipython3",
   "version": "3.7.4"
  }
 },
 "nbformat": 4,
 "nbformat_minor": 2
}
